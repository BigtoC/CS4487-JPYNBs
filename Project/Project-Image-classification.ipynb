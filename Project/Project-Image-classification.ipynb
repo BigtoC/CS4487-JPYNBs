{
 "cells": [
  {
   "cell_type": "markdown",
   "metadata": {},
   "source": [
    "# CS4487 Project: Image classification"
   ]
  },
  {
   "cell_type": "markdown",
   "metadata": {},
   "source": [
    "## Regarding course project\n",
    "* External training data is not allowed. Learning can only be performed on the 50000 training images in CIFAR10\n",
    "* The **CIFAR10** dataset (*https://www.cs.toronto.edu/~kriz/cifar.html*) was comprised of 60, 000 32 × 32 color photographs of objects from 10 classes, with 6, 000 images per class. There are 50, 000 training images and 10, 000 test images.\n",
    "* Submit your results at https://www.kaggle.com/c/cs4487cp/\n",
    "* The second test set containing roughly 2000 images (refer to test_data.zip)"
   ]
  },
  {
   "cell_type": "markdown",
   "metadata": {},
   "source": [
    "## Evaluation Criteria \n",
    "\n",
    "* ### Classification Accuaracy:\n",
    "### $$ Acc(f, D) = \\frac{1}{m}\\sum_{i=1}^{m}\\mathbb{I}[y^i = f(x^i)]$$\n",
    "\n",
    "* ### File Format:\n",
    "Upload a file in CSV format, such as:\n",
    "\n",
    "|         **Index**         |         **Category**        |\n",
    "|---------------------------|-----------------------------|\n",
    "| 0                         | 8                           |\n",
    "| 1                         | 4                           |\n",
    "| 2                         | 6                           |\n",
    "| 3                         | 1                           |\n",
    "| ......                    | ......                      |\n",
    "| 11999                     | 2                           |"
   ]
  },
  {
   "cell_type": "code",
   "execution_count": null,
   "metadata": {},
   "outputs": [],
   "source": []
  },
  {
   "cell_type": "code",
   "execution_count": null,
   "metadata": {},
   "outputs": [],
   "source": []
  },
  {
   "cell_type": "code",
   "execution_count": null,
   "metadata": {},
   "outputs": [],
   "source": []
  },
  {
   "cell_type": "code",
   "execution_count": null,
   "metadata": {},
   "outputs": [],
   "source": []
  },
  {
   "cell_type": "code",
   "execution_count": null,
   "metadata": {},
   "outputs": [],
   "source": []
  },
  {
   "cell_type": "code",
   "execution_count": null,
   "metadata": {},
   "outputs": [],
   "source": []
  }
 ],
 "metadata": {
  "kernelspec": {
   "display_name": "Python 3",
   "language": "python",
   "name": "python3"
  },
  "language_info": {
   "codemirror_mode": {
    "name": "ipython",
    "version": 3
   },
   "file_extension": ".py",
   "mimetype": "text/x-python",
   "name": "python",
   "nbconvert_exporter": "python",
   "pygments_lexer": "ipython3",
   "version": "3.7.5"
  }
 },
 "nbformat": 4,
 "nbformat_minor": 4
}
